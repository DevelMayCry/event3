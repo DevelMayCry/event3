{
 "cells": [
  {
   "cell_type": "code",
   "execution_count": 77,
   "metadata": {},
   "outputs": [],
   "source": [
    "#导入必要的工具包\n",
    "import pandas as pd\n",
    "import numpy as np\n",
    "from sklearn.cluster import MiniBatchKMeans\n",
    "from sklearn.model_selection import train_test_split\n",
    "from sklearn import metrics\n",
    "#降维算法\n",
    "from sklearn.decomposition import PCA\n",
    "import time\n",
    "#保存数据\n",
    "import pickle\n",
    "\n",
    "import matplotlib.pyplot as plt\n",
    "%matplotlib inline"
   ]
  },
  {
   "cell_type": "code",
   "execution_count": 78,
   "metadata": {},
   "outputs": [],
   "source": [
    "#读取两个文件的数据\n",
    "user = pickle.load(open(\"FE_uniqueUserPairs.pkl\", 'rb'))\n",
    "event = pickle.load(open(\"FE_uniqueUserPairs.pkl\", 'rb'))"
   ]
  },
  {
   "cell_type": "code",
   "execution_count": 79,
   "metadata": {},
   "outputs": [],
   "source": [
    "userList = []\n",
    "eventList = []"
   ]
  },
  {
   "cell_type": "code",
   "execution_count": 80,
   "metadata": {},
   "outputs": [],
   "source": [
    "#迭代set集合  并且放到list中\n",
    "for i in user:\n",
    "    userList.append(i[0])\n",
    "    eventList.append(i[1])\n",
    "\n",
    "for i in event:\n",
    "    userList.append(i[1])\n",
    "    eventList.append(i[0])"
   ]
  },
  {
   "cell_type": "code",
   "execution_count": 81,
   "metadata": {},
   "outputs": [],
   "source": [
    "#定义df\n",
    "d = {'user': userList, 'event': eventList}\n",
    "#生成df\n",
    "train = pd.DataFrame(data=d)"
   ]
  },
  {
   "cell_type": "code",
   "execution_count": 82,
   "metadata": {},
   "outputs": [
    {
     "name": "stdout",
     "output_type": "stream",
     "text": [
      "<class 'pandas.core.frame.DataFrame'>\n",
      "RangeIndex: 168102 entries, 0 to 168101\n",
      "Data columns (total 2 columns):\n",
      "event    168102 non-null int64\n",
      "user     168102 non-null int64\n",
      "dtypes: int64(2)\n",
      "memory usage: 2.6 MB\n"
     ]
    }
   ],
   "source": [
    "#查看信息\n",
    "train.info()"
   ]
  },
  {
   "cell_type": "code",
   "execution_count": 83,
   "metadata": {},
   "outputs": [
    {
     "data": {
      "text/html": [
       "<div>\n",
       "<style scoped>\n",
       "    .dataframe tbody tr th:only-of-type {\n",
       "        vertical-align: middle;\n",
       "    }\n",
       "\n",
       "    .dataframe tbody tr th {\n",
       "        vertical-align: top;\n",
       "    }\n",
       "\n",
       "    .dataframe thead th {\n",
       "        text-align: right;\n",
       "    }\n",
       "</style>\n",
       "<table border=\"1\" class=\"dataframe\">\n",
       "  <thead>\n",
       "    <tr style=\"text-align: right;\">\n",
       "      <th></th>\n",
       "      <th>event</th>\n",
       "      <th>user</th>\n",
       "    </tr>\n",
       "  </thead>\n",
       "  <tbody>\n",
       "    <tr>\n",
       "      <th>0</th>\n",
       "      <td>1415</td>\n",
       "      <td>1558</td>\n",
       "    </tr>\n",
       "    <tr>\n",
       "      <th>1</th>\n",
       "      <td>2929</td>\n",
       "      <td>814</td>\n",
       "    </tr>\n",
       "    <tr>\n",
       "      <th>2</th>\n",
       "      <td>1333</td>\n",
       "      <td>231</td>\n",
       "    </tr>\n",
       "    <tr>\n",
       "      <th>3</th>\n",
       "      <td>619</td>\n",
       "      <td>3301</td>\n",
       "    </tr>\n",
       "    <tr>\n",
       "      <th>4</th>\n",
       "      <td>3004</td>\n",
       "      <td>151</td>\n",
       "    </tr>\n",
       "  </tbody>\n",
       "</table>\n",
       "</div>"
      ],
      "text/plain": [
       "   event  user\n",
       "0   1415  1558\n",
       "1   2929   814\n",
       "2   1333   231\n",
       "3    619  3301\n",
       "4   3004   151"
      ]
     },
     "execution_count": 83,
     "metadata": {},
     "output_type": "execute_result"
    }
   ],
   "source": [
    "#查看头5行信息\n",
    "train.head()"
   ]
  },
  {
   "cell_type": "code",
   "execution_count": 84,
   "metadata": {},
   "outputs": [],
   "source": [
    "#获取y轴\n",
    "y_train = train.event.values\n",
    "#获取x轴\n",
    "X_train = train.drop(\"event\",axis=1).values"
   ]
  },
  {
   "cell_type": "code",
   "execution_count": 85,
   "metadata": {},
   "outputs": [],
   "source": [
    "# 将训练集合拆分成训练集和校验集，在校验集上找到最佳的模型超参数（PCA的维数）\n",
    "X_train_part, X_val, y_train_part, y_val = train_test_split(X_train,y_train, train_size = 0.8,random_state = 0)\n",
    "#X_train_part x轴的训练集\n",
    "#X_val  x轴的测试集\n",
    "#y_train_part  y轴的训练集\n",
    "#y_val  y轴的测试集\n",
    "\n",
    "#X_train_pca x轴的训练数据\n",
    "#y_train y轴的训练数据\n",
    "#train_size = 0.8  训练集的比例\n",
    "#random_state = 0  随机的次数"
   ]
  },
  {
   "cell_type": "code",
   "execution_count": 86,
   "metadata": {},
   "outputs": [],
   "source": [
    "# 一个参数点（聚类数据为K）的模型，在校验集上评价聚类算法性能\n",
    "def K_cluster_analysis(K, X_train, y_train, X_val, y_val):\n",
    "#K  分成多少类的值\n",
    "#X_train_part  x轴的训练集\n",
    "#y_train_part  y轴的训练集\n",
    "#X_val  x轴的测试集\n",
    " #y_val  y轴的测试集\n",
    "    \n",
    "    #定义开始时间\n",
    "    start = time.time()\n",
    "    \n",
    "    #输出\n",
    "    print(\"K-means begin with clusters: {}\".format(K));\n",
    "    \n",
    "    #K-means,在训练集上训练\n",
    "    mb_kmeans = MiniBatchKMeans(n_clusters = K)\n",
    "    #n_clusters = K  定义有多少类\n",
    "    \n",
    "    #训练模型\n",
    "    mb_kmeans.fit(X_train)\n",
    "    #X_train x轴的训练数据\n",
    "    \n",
    "    # 在训练集和测试集上测试\n",
    "    #y_train_pred = mb_kmeans.fit_predict(X_train)\n",
    "    y_val_pred = mb_kmeans.predict(X_val)\n",
    "    #X_val x轴的测试数据\n",
    "    \n",
    "    #以前两维特征打印训练数据的分类结果\n",
    "    #plt.scatter(X_train[:, 0], X_train[:, 1], c=y_pred)\n",
    "    #plt.show()\n",
    "\n",
    "    # K值的评估标准\n",
    "    #常见的方法有轮廓系数Silhouette Coefficient和Calinski-Harabasz Index\n",
    "    #这两个分数值越大则聚类效果越好\n",
    "    #CH_score = metrics.calinski_harabaz_score(X_train,mb_kmeans.predict(X_train))\n",
    "    CH_score = metrics.silhouette_score(X_val,mb_kmeans.predict(X_val))#内部评价\n",
    "    #X_train  x轴的训练数据\n",
    "    #mb_kmeans.predict(X_train)  模型预测的结果\n",
    "    \n",
    "    #也可以在校验集上评估K\n",
    "    v_score = metrics.v_measure_score(y_val, y_val_pred)#外部评价\n",
    "    #y_val  x轴的测试集\n",
    "    #y_val_pred  y轴的测试集\n",
    "    \n",
    "    #定义结束时间\n",
    "    end = time.time()\n",
    "    #输出\n",
    "    print(\"CH_score: {}, time elaps:{}\".format(CH_score, int(end-start)))\n",
    "    print(\"v_score: {}\".format(v_score))\n",
    "    \n",
    "    return CH_score,v_score"
   ]
  },
  {
   "cell_type": "code",
   "execution_count": 87,
   "metadata": {},
   "outputs": [
    {
     "name": "stdout",
     "output_type": "stream",
     "text": [
      "K-means begin with clusters: 10\n",
      "CH_score: 0.559912672103, time elaps:45\n",
      "v_score: 0.0387616573781\n",
      "K-means begin with clusters: 20\n",
      "CH_score: 0.552669140797, time elaps:37\n",
      "v_score: 0.0700010482957\n",
      "K-means begin with clusters: 30\n",
      "CH_score: 0.560231832784, time elaps:32\n",
      "v_score: 0.0980143124088\n",
      "K-means begin with clusters: 40\n",
      "CH_score: 0.568096304738, time elaps:32\n",
      "v_score: 0.1180809608\n",
      "K-means begin with clusters: 50\n",
      "CH_score: 0.587310174235, time elaps:31\n",
      "v_score: 0.137917496815\n",
      "K-means begin with clusters: 60\n",
      "CH_score: 0.583607722191, time elaps:33\n",
      "v_score: 0.154668108034\n"
     ]
    }
   ],
   "source": [
    "# 设置超参数（聚类数目K）搜索范围\n",
    "Ks = [10, 20, 30,40,50,60] #定义要分多少类\n",
    "CH_scores = []  #内部评价存储列表\n",
    "v_scores = []   #外部评价存储列表\n",
    "\n",
    "\n",
    "for K in Ks:\n",
    "    #调用方法\n",
    "    ch,v = K_cluster_analysis(K, X_train_part, y_train_part, X_val, y_val)\n",
    "    #K  分成多少类的值\n",
    "    #X_train_part  x轴的训练集\n",
    "    #y_train_part  y轴的训练集\n",
    "    #X_val  x轴的测试集\n",
    "    #y_val  y轴的测试集\n",
    "    \n",
    "    #添加到内部评价列表中\n",
    "    CH_scores.append(ch)\n",
    "    #添加到外部评价列表中\n",
    "    v_scores.append(v)"
   ]
  },
  {
   "cell_type": "markdown",
   "metadata": {},
   "source": [
    "目前最好是K-means begin with clusters: 50     CH_score: 0.587310174235  继续调整"
   ]
  },
  {
   "cell_type": "code",
   "execution_count": 88,
   "metadata": {},
   "outputs": [
    {
     "name": "stdout",
     "output_type": "stream",
     "text": [
      "K-means begin with clusters: 70\n",
      "CH_score: 0.57883538169, time elaps:33\n",
      "v_score: 0.167622306394\n",
      "K-means begin with clusters: 80\n",
      "CH_score: 0.607575069544, time elaps:33\n",
      "v_score: 0.181091002062\n",
      "K-means begin with clusters: 90\n",
      "CH_score: 0.600665797421, time elaps:33\n",
      "v_score: 0.193154354225\n",
      "K-means begin with clusters: 100\n",
      "CH_score: 0.623605251293, time elaps:33\n",
      "v_score: 0.203393562945\n",
      "K-means begin with clusters: 110\n",
      "CH_score: 0.620943674947, time elaps:33\n",
      "v_score: 0.212377025987\n",
      "K-means begin with clusters: 120\n",
      "CH_score: 0.627374462074, time elaps:32\n",
      "v_score: 0.222640070395\n"
     ]
    }
   ],
   "source": [
    "# 设置超参数（聚类数目K）搜索范围\n",
    "Ks = [70, 80, 90,100,110,120] #定义要分多少类\n",
    "CH_scores = []  #内部评价存储列表\n",
    "v_scores = []   #外部评价存储列表\n",
    "\n",
    "\n",
    "for K in Ks:\n",
    "    #调用方法\n",
    "    ch,v = K_cluster_analysis(K, X_train_part, y_train_part, X_val, y_val)\n",
    "    #K  分成多少类的值\n",
    "    #X_train_part  x轴的训练集\n",
    "    #y_train_part  y轴的训练集\n",
    "    #X_val  x轴的测试集\n",
    "    #y_val  y轴的测试集\n",
    "    \n",
    "    #添加到内部评价列表中\n",
    "    CH_scores.append(ch)\n",
    "    #添加到外部评价列表中\n",
    "    v_scores.append(v)"
   ]
  },
  {
   "cell_type": "markdown",
   "metadata": {},
   "source": [
    "目前最好是K-means begin with clusters: 120 CH_score: 0.627374462074"
   ]
  }
 ],
 "metadata": {
  "kernelspec": {
   "display_name": "Python 2",
   "language": "python",
   "name": "python2"
  },
  "language_info": {
   "codemirror_mode": {
    "name": "ipython",
    "version": 2
   },
   "file_extension": ".py",
   "mimetype": "text/x-python",
   "name": "python",
   "nbconvert_exporter": "python",
   "pygments_lexer": "ipython2",
   "version": "2.7.14"
  }
 },
 "nbformat": 4,
 "nbformat_minor": 2
}
